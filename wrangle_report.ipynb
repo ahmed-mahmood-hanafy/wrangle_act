{
 "cells": [
  {
   "cell_type": "markdown",
   "metadata": {},
   "source": [
    "# data wrangling report of WeRateDogs Twitter data"
   ]
  },
  {
   "cell_type": "markdown",
   "metadata": {},
   "source": [
    "## introduction\n",
    "The dataset that is wrangled here is the tweet archive of Twitter user @dog_rates, also known as WeRateDogs.\n",
    "[WeRateDogs](https://en.wikipedia.org/wiki/WeRateDogs) is a Twitter account that rates people's dogs with a humorous comment about the dog"
   ]
  },
  {
   "cell_type": "markdown",
   "metadata": {},
   "source": [
    "## gathering data\n",
    "- `image-predictions.tsv` was downloaded programmatically\n",
    "- `twitter-archive-enhanced.csv` was downloaded manually\n",
    "- data was gathered from `tweet_json.txt`"
   ]
  },
  {
   "cell_type": "markdown",
   "metadata": {},
   "source": [
    "## assessig data\n",
    "### `twitter_archive`\n",
    "#### quality issues\n",
    "\n",
    "- alot of `NaN` in `retweeted_status_id`, `retweeted_status_user_id`, `retweeted_status_timestamp`, `in_reply_to_status_id` and   `in_reply_to_user_id` but that ok since it could be the the original status not a retweet or a reply\n",
    "- `expanded_urls` column have some `NaN`\n",
    "- `timestamp` and `retweeted_status_timestamp` are object\n",
    "- `tweet_id`, `in_reply_to_status_id`, `in_reply_to_user_id`, `retweeted_status_id` and `retweeted_status_user_id` are numeric\n",
    "- outliers in `rating_numerator` and `rating_denominator`\n",
    "- there is hidden NaN in `name` column\n",
    "- `expanded_urls` have duplicated urls\n",
    "\n",
    "#### Tidiness issues\n",
    "\n",
    "- `doggo`, `floofer` ,`pupper`and `puppo` are nontidy *messy* and there is hidden NaN in them\n",
    "--------------\n",
    "### `image_predictions`\n",
    "#### quality issues\n",
    "\n",
    "- `tweet_id` is int\n",
    "- `p1` have some predictions that are not dogs some of them are not recognized dogs and some are not dogs\n",
    "- `p2_conf` and `p3_conf` are exponential which is not very clear to compare \n",
    "- some column name may not be very clear\n",
    "\n",
    "#### Tidiness issues\n",
    "\n",
    "- `p1`, `p1_conf`, `p1_dog`, `p2`, `p2_conf`, `p2_dog`, `p3`, `p3_conf`and `p3_dog` are not tidy\n",
    "- `image_predictions` could be merged with `twitter_archive`\n",
    "-------------------\n",
    "### `tweet_likes_retw`\n",
    "#### quality issues\n",
    "\n",
    "- `tweet_id` is int\n",
    "\n",
    "#### Tidiness issues\n",
    "\n",
    "- this dataset is separated from `twitter_archive` which make them messy"
   ]
  },
  {
   "cell_type": "markdown",
   "metadata": {},
   "source": [
    "## cleaning data\n",
    "- a copy was made for each data and all cleaning was done to the copies\n",
    "- `image_predictions` columns were renamed appropriatly befor merging it to `twitter_archive`\n",
    "- all the data were merged to `twitter_archive` making it more tidy\n",
    "- `doggo`, `floofer` ,`pupper`and `puppo` were converted to one column called `stage` making them tidy\n",
    "- data types were setted appropriately \n",
    "- all replies and retweets were removed and columns associated with them\n",
    "- some wrong values of `rating_numerator` were corrected\n",
    "- `rating_out_of_10` column was created by that formula `rating_numerator / rating_denominator * 10`"
   ]
  },
  {
   "cell_type": "markdown",
   "metadata": {},
   "source": [
    "## more to be done\n",
    "- collecting data about the actual dog type to analyze models sensitivity and specificity\n",
    "- completing stage data"
   ]
  },
  {
   "cell_type": "markdown",
   "metadata": {},
   "source": [
    "## conclusion\n",
    "- this was challenging project specially trying to load the json in txt file and reading data from it"
   ]
  }
 ],
 "metadata": {
  "kernelspec": {
   "display_name": "Python [default]",
   "language": "python",
   "name": "python3"
  },
  "language_info": {
   "codemirror_mode": {
    "name": "ipython",
    "version": 3
   },
   "file_extension": ".py",
   "mimetype": "text/x-python",
   "name": "python",
   "nbconvert_exporter": "python",
   "pygments_lexer": "ipython3",
   "version": "3.6.6"
  }
 },
 "nbformat": 4,
 "nbformat_minor": 2
}
