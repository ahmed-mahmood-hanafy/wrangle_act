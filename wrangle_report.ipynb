{
 "cells": [
  {
   "cell_type": "markdown",
   "metadata": {},
   "source": [
    "# done"
   ]
  },
  {
   "cell_type": "markdown",
   "metadata": {},
   "source": [
    "- making `doggo`, `floofer` ,`pupper`and `puppo` tidy as column called `stage`\n",
    "- merging `twitter_archive_clean` and `tweet_likes_retw`\n",
    "- removing tweets that are retweets or replies from `twitter_archive`\n",
    "- making new column called `rating_out_of_10` = `rating_numerator` / `rating_denominator` * 10 \n",
    "  to get one column to compare and get rid of some outliers\n",
    "- renaming `image_predictions_clean` columns \n",
    "- making `prediction1` , `confidence1`, `dog1` , `prediction2` , `confidence2`, `dog2` , `prediction3` , `confidence3`and `dog3`   tidy"
   ]
  },
  {
   "cell_type": "markdown",
   "metadata": {},
   "source": [
    "# more to be done"
   ]
  },
  {
   "cell_type": "markdown",
   "metadata": {},
   "source": [
    "- collecting data about the actual dog type to analyze models sensitivity and specificity\n",
    "- completing stage data"
   ]
  }
 ],
 "metadata": {
  "kernelspec": {
   "display_name": "Python [default]",
   "language": "python",
   "name": "python3"
  },
  "language_info": {
   "codemirror_mode": {
    "name": "ipython",
    "version": 3
   },
   "file_extension": ".py",
   "mimetype": "text/x-python",
   "name": "python",
   "nbconvert_exporter": "python",
   "pygments_lexer": "ipython3",
   "version": "3.6.6"
  }
 },
 "nbformat": 4,
 "nbformat_minor": 2
}
