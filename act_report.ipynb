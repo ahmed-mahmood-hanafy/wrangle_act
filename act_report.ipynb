{
 "cells": [
  {
   "cell_type": "markdown",
   "metadata": {},
   "source": [
    "# dogs \n",
    "- who don't love dogs?\n",
    "- and who don't love [WeRateDogs](https://en.wikipedia.org/wiki/WeRateDogs)?"
   ]
  },
  {
   "cell_type": "markdown",
   "metadata": {},
   "source": [
    "![the dog with max favorite_count](image\\C2tugXLXgAArJO4.jpg)"
   ]
  },
  {
   "cell_type": "markdown",
   "metadata": {},
   "source": [
    "- this is a creature that has to be loved\n",
    "- and this is the dog with the highest favorite_count from WeRateDogs Twitter data and it deserve it"
   ]
  },
  {
   "cell_type": "markdown",
   "metadata": {},
   "source": [
    "but this beautiful dog was not the single thing that was found although if it was the case it would be more than enough"
   ]
  },
  {
   "cell_type": "markdown",
   "metadata": {},
   "source": [
    "after gathering assessing cleaning the data and then finally visualizing it some interisting result were found beside this beautiful dog"
   ]
  },
  {
   "cell_type": "markdown",
   "metadata": {},
   "source": [
    "## here is some visualizations"
   ]
  },
  {
   "cell_type": "markdown",
   "metadata": {},
   "source": [
    "![rating_out_of_10 histogram](image\\rating_out_of_10_histogram.png)"
   ]
  },
  {
   "cell_type": "markdown",
   "metadata": {},
   "source": [
    "- the bulk of rating is 10 and above and remember that's normal because they are beautiful dogs and [they're good dogs Brent](https://knowyourmeme.com/memes/theyre-good-dogs-brent) yes they are"
   ]
  },
  {
   "cell_type": "markdown",
   "metadata": {},
   "source": [
    "![favorite_count_histogram](image\\favorite_count_histogram.png)"
   ]
  },
  {
   "cell_type": "markdown",
   "metadata": {},
   "source": [
    "- the mood of favorite_count was around 2500 and some time reach 40000 and even 132810 because they are good dogs"
   ]
  },
  {
   "cell_type": "markdown",
   "metadata": {},
   "source": [
    "![retweet_count_histogram](image\\retweet_count_histogram.png)"
   ]
  },
  {
   "cell_type": "markdown",
   "metadata": {},
   "source": [
    "- the mood of retweet_count was around 1000 and some time reach 20000 and even 79515 "
   ]
  },
  {
   "cell_type": "markdown",
   "metadata": {},
   "source": [
    "the data even included prediction from [neural network](https://www.youtube.com/watch?v=2-Ol7ZB0MmU) and by analyzing it the following was found"
   ]
  },
  {
   "cell_type": "markdown",
   "metadata": {},
   "source": [
    "- the most predicted was [golden retriever](https://en.wikipedia.org/wiki/Golden_Retriever) then [Labrador_retriever](https://en.wikipedia.org/wiki/Labrador_Retriever) because ! remember ? yes they are good dogs"
   ]
  },
  {
   "cell_type": "markdown",
   "metadata": {},
   "source": [
    "## summary"
   ]
  },
  {
   "cell_type": "markdown",
   "metadata": {},
   "source": [
    "- the most predicted was golden retriever then Labrador_retriever\n",
    "- the mood of retweet_count was around 1000\n",
    "- the mood of favorite_count was around 2000\n",
    "- confidence interval for model 1 is the highest then 2 and lastly 3\n",
    "- the highest retweet_count is 79515\n",
    "- the highest favorite_count is 132810"
   ]
  }
 ],
 "metadata": {
  "kernelspec": {
   "display_name": "Python [default]",
   "language": "python",
   "name": "python3"
  },
  "language_info": {
   "codemirror_mode": {
    "name": "ipython",
    "version": 3
   },
   "file_extension": ".py",
   "mimetype": "text/x-python",
   "name": "python",
   "nbconvert_exporter": "python",
   "pygments_lexer": "ipython3",
   "version": "3.6.6"
  }
 },
 "nbformat": 4,
 "nbformat_minor": 2
}
