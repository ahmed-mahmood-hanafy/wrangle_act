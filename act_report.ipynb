{
 "cells": [
  {
   "cell_type": "markdown",
   "metadata": {},
   "source": [
    "###### after analyzing WeRateDogs data the following was found"
   ]
  },
  {
   "cell_type": "markdown",
   "metadata": {},
   "source": [
    "- the most predicted was golden retriever then Labrador_retriever\n",
    "- the mood of retweet_count was around 1000\n",
    "- the mood of favorite_count was around 2000\n",
    "- confidence interval for model 1 is the highest then 2 and lastly 3\n",
    "- the highest retweet_count is 79515\n",
    "- the highest favorite_count is 132810"
   ]
  },
  {
   "cell_type": "markdown",
   "metadata": {},
   "source": [
    "#### favorite_count histogram\n",
    "![favorite_count histogram](image/favorite_count_hist.png)"
   ]
  },
  {
   "cell_type": "markdown",
   "metadata": {},
   "source": [
    "#### retweet_count histogram\n",
    "![retweet_count histogram](image/retweet_count_hist.png)"
   ]
  }
 ],
 "metadata": {
  "kernelspec": {
   "display_name": "Python [default]",
   "language": "python",
   "name": "python3"
  },
  "language_info": {
   "codemirror_mode": {
    "name": "ipython",
    "version": 3
   },
   "file_extension": ".py",
   "mimetype": "text/x-python",
   "name": "python",
   "nbconvert_exporter": "python",
   "pygments_lexer": "ipython3",
   "version": "3.6.6"
  }
 },
 "nbformat": 4,
 "nbformat_minor": 2
}
